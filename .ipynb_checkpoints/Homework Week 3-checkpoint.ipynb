{
 "cells": [
  {
   "cell_type": "code",
   "execution_count": 1,
   "id": "90c340be",
   "metadata": {},
   "outputs": [],
   "source": [
    "import pandas as pd\n",
    "import numpy as np\n",
    "\n",
    "import seaborn as sns\n",
    "from matplotlib import pyplot as plt\n",
    "%matplotlib inline"
   ]
  },
  {
   "cell_type": "code",
   "execution_count": 2,
   "id": "dedaebd0",
   "metadata": {},
   "outputs": [],
   "source": [
    "df = pd.read_csv(\"AB_NYC_2019.csv\")\n",
    "var = ['neighbourhood_group','room_type','latitude','longitude','price','minimum_nights',\n",
    "      'number_of_reviews','reviews_per_month','calculated_host_listings_count','availability_365']\n",
    "\n",
    "df = df[var]\n",
    "\n",
    "# fill missing values with zero\n",
    "def fillMissing(df):\n",
    "    for var in df.columns:\n",
    "        df[[var]] = df[[var]].fillna(0)\n",
    "    \n",
    "    return df\n",
    "\n",
    "data = fillMissing(df)"
   ]
  },
  {
   "cell_type": "code",
   "execution_count": 3,
   "id": "5ad94c0f",
   "metadata": {},
   "outputs": [
    {
     "data": {
      "text/html": [
       "<div>\n",
       "<style scoped>\n",
       "    .dataframe tbody tr th:only-of-type {\n",
       "        vertical-align: middle;\n",
       "    }\n",
       "\n",
       "    .dataframe tbody tr th {\n",
       "        vertical-align: top;\n",
       "    }\n",
       "\n",
       "    .dataframe thead th {\n",
       "        text-align: right;\n",
       "    }\n",
       "</style>\n",
       "<table border=\"1\" class=\"dataframe\">\n",
       "  <thead>\n",
       "    <tr style=\"text-align: right;\">\n",
       "      <th></th>\n",
       "      <th>neighbourhood_group</th>\n",
       "    </tr>\n",
       "  </thead>\n",
       "  <tbody>\n",
       "    <tr>\n",
       "      <th>0</th>\n",
       "      <td>Manhattan</td>\n",
       "    </tr>\n",
       "  </tbody>\n",
       "</table>\n",
       "</div>"
      ],
      "text/plain": [
       "  neighbourhood_group\n",
       "0           Manhattan"
      ]
     },
     "execution_count": 3,
     "metadata": {},
     "output_type": "execute_result"
    }
   ],
   "source": [
    "# Question 1: Mode for 'neighbourhood_group'\n",
    "data[['neighbourhood_group']].mode()"
   ]
  },
  {
   "cell_type": "code",
   "execution_count": 4,
   "id": "c9c23e5f",
   "metadata": {},
   "outputs": [
    {
     "data": {
      "text/plain": [
       "(29337, 9779, 9779)"
      ]
     },
     "execution_count": 4,
     "metadata": {},
     "output_type": "execute_result"
    }
   ],
   "source": [
    "from sklearn.model_selection import train_test_split\n",
    "\n",
    "data_train, data_test = train_test_split(data, test_size=0.4, random_state=42)\n",
    "data_test, data_val = train_test_split(data_test, test_size=0.5, random_state=42)\n",
    "\n",
    "data_train = data_train.reset_index(drop=True)\n",
    "data_val = data_val.reset_index(drop=True)\n",
    "data_test = data_test.reset_index(drop=True)\n",
    "\n",
    "y_train = data_train.price.values\n",
    "y_val = data_val.price.values\n",
    "y_test = data_test.price.values\n",
    "\n",
    "del data_train['price']\n",
    "del data_val['price']\n",
    "del data_test['price']\n",
    "\n",
    "len(data_train), len(data_val), len(data_test)"
   ]
  },
  {
   "cell_type": "code",
   "execution_count": 5,
   "id": "b395976b",
   "metadata": {},
   "outputs": [
    {
     "data": {
      "text/html": [
       "<div>\n",
       "<style scoped>\n",
       "    .dataframe tbody tr th:only-of-type {\n",
       "        vertical-align: middle;\n",
       "    }\n",
       "\n",
       "    .dataframe tbody tr th {\n",
       "        vertical-align: top;\n",
       "    }\n",
       "\n",
       "    .dataframe thead th {\n",
       "        text-align: right;\n",
       "    }\n",
       "</style>\n",
       "<table border=\"1\" class=\"dataframe\">\n",
       "  <thead>\n",
       "    <tr style=\"text-align: right;\">\n",
       "      <th></th>\n",
       "      <th>latitude</th>\n",
       "      <th>longitude</th>\n",
       "      <th>minimum_nights</th>\n",
       "      <th>number_of_reviews</th>\n",
       "      <th>reviews_per_month</th>\n",
       "      <th>calculated_host_listings_count</th>\n",
       "      <th>availability_365</th>\n",
       "    </tr>\n",
       "  </thead>\n",
       "  <tbody>\n",
       "    <tr>\n",
       "      <th>latitude</th>\n",
       "      <td>1.000000</td>\n",
       "      <td>0.087732</td>\n",
       "      <td>0.027252</td>\n",
       "      <td>-0.010080</td>\n",
       "      <td>-0.014699</td>\n",
       "      <td>0.019442</td>\n",
       "      <td>-0.005975</td>\n",
       "    </tr>\n",
       "    <tr>\n",
       "      <th>longitude</th>\n",
       "      <td>0.087732</td>\n",
       "      <td>1.000000</td>\n",
       "      <td>-0.067251</td>\n",
       "      <td>0.058775</td>\n",
       "      <td>0.132226</td>\n",
       "      <td>-0.116669</td>\n",
       "      <td>0.080776</td>\n",
       "    </tr>\n",
       "    <tr>\n",
       "      <th>minimum_nights</th>\n",
       "      <td>0.027252</td>\n",
       "      <td>-0.067251</td>\n",
       "      <td>1.000000</td>\n",
       "      <td>-0.085092</td>\n",
       "      <td>-0.127316</td>\n",
       "      <td>0.124060</td>\n",
       "      <td>0.141089</td>\n",
       "    </tr>\n",
       "    <tr>\n",
       "      <th>number_of_reviews</th>\n",
       "      <td>-0.010080</td>\n",
       "      <td>0.058775</td>\n",
       "      <td>-0.085092</td>\n",
       "      <td>1.000000</td>\n",
       "      <td>0.581124</td>\n",
       "      <td>-0.072687</td>\n",
       "      <td>0.176481</td>\n",
       "    </tr>\n",
       "    <tr>\n",
       "      <th>reviews_per_month</th>\n",
       "      <td>-0.014699</td>\n",
       "      <td>0.132226</td>\n",
       "      <td>-0.127316</td>\n",
       "      <td>0.581124</td>\n",
       "      <td>1.000000</td>\n",
       "      <td>-0.047254</td>\n",
       "      <td>0.166533</td>\n",
       "    </tr>\n",
       "    <tr>\n",
       "      <th>calculated_host_listings_count</th>\n",
       "      <td>0.019442</td>\n",
       "      <td>-0.116669</td>\n",
       "      <td>0.124060</td>\n",
       "      <td>-0.072687</td>\n",
       "      <td>-0.047254</td>\n",
       "      <td>1.000000</td>\n",
       "      <td>0.222986</td>\n",
       "    </tr>\n",
       "    <tr>\n",
       "      <th>availability_365</th>\n",
       "      <td>-0.005975</td>\n",
       "      <td>0.080776</td>\n",
       "      <td>0.141089</td>\n",
       "      <td>0.176481</td>\n",
       "      <td>0.166533</td>\n",
       "      <td>0.222986</td>\n",
       "      <td>1.000000</td>\n",
       "    </tr>\n",
       "  </tbody>\n",
       "</table>\n",
       "</div>"
      ],
      "text/plain": [
       "                                latitude  longitude  minimum_nights  \\\n",
       "latitude                        1.000000   0.087732        0.027252   \n",
       "longitude                       0.087732   1.000000       -0.067251   \n",
       "minimum_nights                  0.027252  -0.067251        1.000000   \n",
       "number_of_reviews              -0.010080   0.058775       -0.085092   \n",
       "reviews_per_month              -0.014699   0.132226       -0.127316   \n",
       "calculated_host_listings_count  0.019442  -0.116669        0.124060   \n",
       "availability_365               -0.005975   0.080776        0.141089   \n",
       "\n",
       "                                number_of_reviews  reviews_per_month  \\\n",
       "latitude                                -0.010080          -0.014699   \n",
       "longitude                                0.058775           0.132226   \n",
       "minimum_nights                          -0.085092          -0.127316   \n",
       "number_of_reviews                        1.000000           0.581124   \n",
       "reviews_per_month                        0.581124           1.000000   \n",
       "calculated_host_listings_count          -0.072687          -0.047254   \n",
       "availability_365                         0.176481           0.166533   \n",
       "\n",
       "                                calculated_host_listings_count  \\\n",
       "latitude                                              0.019442   \n",
       "longitude                                            -0.116669   \n",
       "minimum_nights                                        0.124060   \n",
       "number_of_reviews                                    -0.072687   \n",
       "reviews_per_month                                    -0.047254   \n",
       "calculated_host_listings_count                        1.000000   \n",
       "availability_365                                      0.222986   \n",
       "\n",
       "                                availability_365  \n",
       "latitude                               -0.005975  \n",
       "longitude                               0.080776  \n",
       "minimum_nights                          0.141089  \n",
       "number_of_reviews                       0.176481  \n",
       "reviews_per_month                       0.166533  \n",
       "calculated_host_listings_count          0.222986  \n",
       "availability_365                        1.000000  "
      ]
     },
     "execution_count": 5,
     "metadata": {},
     "output_type": "execute_result"
    }
   ],
   "source": [
    "# Question 2: correlation matrix \n",
    "data_train.corr() # reviews_per_month * number_of_reviews, availability_365*calculated_host_listings_count"
   ]
  },
  {
   "cell_type": "code",
   "execution_count": 6,
   "id": "9d1ebb96",
   "metadata": {},
   "outputs": [],
   "source": [
    "#Make price binary\n",
    "\n",
    "above_average = (y_train > 152).astype(int)"
   ]
  },
  {
   "cell_type": "code",
   "execution_count": 7,
   "id": "4e2254a3",
   "metadata": {},
   "outputs": [
    {
     "data": {
      "text/plain": [
       "(0.11, 0.32)"
      ]
     },
     "execution_count": 7,
     "metadata": {},
     "output_type": "execute_result"
    }
   ],
   "source": [
    "# Question 3: mutual information score \n",
    "from sklearn.metrics import mutual_info_score\n",
    "\n",
    "(\n",
    "    round(mutual_info_score(y_train, data_train.neighbourhood_group), 2), # neighbourhood_group\n",
    "    round(mutual_info_score(y_train, data_train.room_type), 2) # room_type\n",
    ")"
   ]
  },
  {
   "cell_type": "code",
   "execution_count": 8,
   "id": "adaa17be",
   "metadata": {},
   "outputs": [],
   "source": [
    "# Question 4: logistic regression\n",
    "from sklearn.linear_model import LogisticRegression\n",
    "from sklearn.feature_extraction import DictVectorizer\n",
    "\n",
    "numerical = ['latitude','longitude','minimum_nights', 'number_of_reviews','reviews_per_month',\n",
    "             'calculated_host_listings_count','availability_365']\n",
    "categorical = ['neighbourhood_group','room_type']\n",
    "\n",
    "# one hot encode input variables\n",
    "dv = DictVectorizer(sparse=False)\n",
    "\n",
    "train_dict = data_train[categorical + numerical].to_dict(orient='records')\n",
    "X_train = dv.fit_transform(train_dict)\n",
    "\n",
    "val_dict = data_val[categorical + numerical].to_dict(orient='records')\n",
    "X_val = dv.transform(val_dict)"
   ]
  },
  {
   "cell_type": "code",
   "execution_count": 9,
   "id": "df09d0f3",
   "metadata": {},
   "outputs": [
    {
     "name": "stderr",
     "output_type": "stream",
     "text": [
      "c:\\users\\alagat\\miniconda3\\lib\\site-packages\\sklearn\\linear_model\\_logistic.py:763: ConvergenceWarning: lbfgs failed to converge (status=1):\n",
      "STOP: TOTAL NO. of ITERATIONS REACHED LIMIT.\n",
      "\n",
      "Increase the number of iterations (max_iter) or scale the data as shown in:\n",
      "    https://scikit-learn.org/stable/modules/preprocessing.html\n",
      "Please also refer to the documentation for alternative solver options:\n",
      "    https://scikit-learn.org/stable/modules/linear_model.html#logistic-regression\n",
      "  n_iter_i = _check_optimize_result(\n"
     ]
    },
    {
     "data": {
      "text/plain": [
       "0.7937416913794867"
      ]
     },
     "execution_count": 9,
     "metadata": {},
     "output_type": "execute_result"
    }
   ],
   "source": [
    "# Logistic regression\n",
    "\n",
    "model = LogisticRegression(solver='lbfgs', C=1.0, random_state=42)\n",
    "model.fit(X_train, y_train>152)\n",
    "\n",
    "# Prediction and accuracy\n",
    "y_pred = model.predict(X_val)\n",
    "accuracy_base = ((y_val > 152).astype(int) == y_pred).mean()\n",
    "accuracy_base"
   ]
  },
  {
   "cell_type": "code",
   "execution_count": 10,
   "id": "4b445876",
   "metadata": {},
   "outputs": [
    {
     "name": "stderr",
     "output_type": "stream",
     "text": [
      "c:\\users\\alagat\\miniconda3\\lib\\site-packages\\sklearn\\linear_model\\_logistic.py:763: ConvergenceWarning: lbfgs failed to converge (status=1):\n",
      "STOP: TOTAL NO. of ITERATIONS REACHED LIMIT.\n",
      "\n",
      "Increase the number of iterations (max_iter) or scale the data as shown in:\n",
      "    https://scikit-learn.org/stable/modules/preprocessing.html\n",
      "Please also refer to the documentation for alternative solver options:\n",
      "    https://scikit-learn.org/stable/modules/linear_model.html#logistic-regression\n",
      "  n_iter_i = _check_optimize_result(\n"
     ]
    },
    {
     "name": "stdout",
     "output_type": "stream",
     "text": [
      "neighbourhood_group: 0.044687595868698304\n"
     ]
    },
    {
     "name": "stderr",
     "output_type": "stream",
     "text": [
      "c:\\users\\alagat\\miniconda3\\lib\\site-packages\\sklearn\\linear_model\\_logistic.py:763: ConvergenceWarning: lbfgs failed to converge (status=1):\n",
      "STOP: TOTAL NO. of ITERATIONS REACHED LIMIT.\n",
      "\n",
      "Increase the number of iterations (max_iter) or scale the data as shown in:\n",
      "    https://scikit-learn.org/stable/modules/preprocessing.html\n",
      "Please also refer to the documentation for alternative solver options:\n",
      "    https://scikit-learn.org/stable/modules/linear_model.html#logistic-regression\n",
      "  n_iter_i = _check_optimize_result(\n"
     ]
    },
    {
     "name": "stdout",
     "output_type": "stream",
     "text": [
      "room_type: 0.07464975968912979\n"
     ]
    },
    {
     "name": "stderr",
     "output_type": "stream",
     "text": [
      "c:\\users\\alagat\\miniconda3\\lib\\site-packages\\sklearn\\linear_model\\_logistic.py:763: ConvergenceWarning: lbfgs failed to converge (status=1):\n",
      "STOP: TOTAL NO. of ITERATIONS REACHED LIMIT.\n",
      "\n",
      "Increase the number of iterations (max_iter) or scale the data as shown in:\n",
      "    https://scikit-learn.org/stable/modules/preprocessing.html\n",
      "Please also refer to the documentation for alternative solver options:\n",
      "    https://scikit-learn.org/stable/modules/linear_model.html#logistic-regression\n",
      "  n_iter_i = _check_optimize_result(\n"
     ]
    },
    {
     "name": "stdout",
     "output_type": "stream",
     "text": [
      "number_of_reviews: 0.0003067798343387995\n",
      "reviews_per_month: 0.00040903977911843636\n"
     ]
    },
    {
     "name": "stderr",
     "output_type": "stream",
     "text": [
      "c:\\users\\alagat\\miniconda3\\lib\\site-packages\\sklearn\\linear_model\\_logistic.py:763: ConvergenceWarning: lbfgs failed to converge (status=1):\n",
      "STOP: TOTAL NO. of ITERATIONS REACHED LIMIT.\n",
      "\n",
      "Increase the number of iterations (max_iter) or scale the data as shown in:\n",
      "    https://scikit-learn.org/stable/modules/preprocessing.html\n",
      "Please also refer to the documentation for alternative solver options:\n",
      "    https://scikit-learn.org/stable/modules/linear_model.html#logistic-regression\n",
      "  n_iter_i = _check_optimize_result(\n"
     ]
    }
   ],
   "source": [
    "# Question 5: feature elimination\n",
    "\n",
    "# 'neighbourhood_group'\n",
    "numerical = ['latitude','longitude','minimum_nights', 'number_of_reviews','reviews_per_month',\n",
    "             'calculated_host_listings_count','availability_365']\n",
    "categorical = ['room_type']\n",
    "train_dict1 = data_train[categorical + numerical].to_dict(orient='records')\n",
    "X_train1 = dv.fit_transform(train_dict1)\n",
    "test_dict1 = data_val[categorical + numerical].to_dict(orient='records')\n",
    "X_val1 = dv.transform(test_dict1)\n",
    "\n",
    "model = LogisticRegression(solver='lbfgs', C=1.0, random_state=42)\n",
    "model.fit(X_train1, y_train>152)    \n",
    "y_pred1 = model.predict(X_val1)\n",
    "accuracy_new = ((y_val > 152).astype(int) == y_pred1).astype(int).mean()\n",
    "print(\"neighbourhood_group\" + \": \" + str(abs(accuracy_base - accuracy_new)))\n",
    "\n",
    "    \n",
    "# 'room_type'\n",
    "numerical = ['latitude','longitude','minimum_nights', 'number_of_reviews','reviews_per_month',\n",
    "             'calculated_host_listings_count','availability_365']\n",
    "categorical = ['neighbourhood_group']\n",
    "train_dict2 = data_train[categorical + numerical].to_dict(orient='records')\n",
    "X_train2 = dv.fit_transform(train_dict2)\n",
    "test_dict2 = data_val[categorical + numerical].to_dict(orient='records')\n",
    "X_val2 = dv.transform(test_dict2)\n",
    "\n",
    "model = LogisticRegression(solver='lbfgs', C=1.0, random_state=42)\n",
    "model.fit(X_train2, y_train>152)    \n",
    "y_pred2 = model.predict(X_val2)\n",
    "accuracy_new = ((y_val > 152).astype(int) == y_pred2).astype(int).mean()\n",
    "print(\"room_type\" + \": \" + str(abs(accuracy_base - accuracy_new)))\n",
    "\n",
    "\n",
    "# 'number_of_reviews'\n",
    "numerical = ['latitude','longitude','minimum_nights', 'reviews_per_month',\n",
    "             'calculated_host_listings_count','availability_365']\n",
    "categorical = ['neighbourhood_group', 'room_type']\n",
    "train_dict3 = data_train[categorical + numerical].to_dict(orient='records')\n",
    "X_train3 = dv.fit_transform(train_dict3)\n",
    "test_dict3 = data_val[categorical + numerical].to_dict(orient='records')\n",
    "X_val3 = dv.transform(test_dict3)\n",
    "\n",
    "model = LogisticRegression(solver='lbfgs', C=1.0, random_state=42)\n",
    "model.fit(X_train3, y_train>152)    \n",
    "y_pred3 = model.predict(X_val3)\n",
    "accuracy_new = ((y_val > 152).astype(int) == y_pred3).astype(int).mean()\n",
    "print(\"number_of_reviews\" + \": \" + str(abs(accuracy_base - accuracy_new)))\n",
    "\n",
    "\n",
    "# 'reviews_per_month'\n",
    "numerical = ['latitude','longitude','minimum_nights', 'number_of_reviews',\n",
    "             'calculated_host_listings_count','availability_365']\n",
    "categorical = ['neighbourhood_group', 'room_type']\n",
    "train_dict4 = data_train[categorical + numerical].to_dict(orient='records')\n",
    "X_train4 = dv.fit_transform(train_dict4)\n",
    "test_dict4 = data_val[categorical + numerical].to_dict(orient='records')\n",
    "X_val4 = dv.transform(test_dict4)\n",
    "\n",
    "model = LogisticRegression(solver='lbfgs', C=1.0, random_state=42)\n",
    "model.fit(X_train4, y_train>152)    \n",
    "y_pred4 = model.predict(X_val4)\n",
    "accuracy_new = ((y_val > 152).astype(int) == y_pred4).astype(int).mean()\n",
    "print(\"reviews_per_month\" + \": \" + str(abs(accuracy_base - accuracy_new)))"
   ]
  },
  {
   "cell_type": "code",
   "execution_count": 11,
   "id": "b644e231",
   "metadata": {},
   "outputs": [
    {
     "name": "stdout",
     "output_type": "stream",
     "text": [
      "     0 0.4921342046671336\n",
      "  0.01 0.4921313886801161\n",
      "   0.1 0.4921300301810149\n",
      "     1 0.49212964470349824\n",
      "    10 0.4927778569958547\n"
     ]
    }
   ],
   "source": [
    "# Question 6:  Ridge regression model \n",
    "from sklearn.metrics import mean_squared_error\n",
    "from sklearn.linear_model import Ridge\n",
    "\n",
    "def rmse(y, y_pred):\n",
    "    error = y_pred - y\n",
    "    mse = (error ** 2).mean()\n",
    "    return np.sqrt(mse)\n",
    "\n",
    "for r in [0, 0.01, 0.1, 1, 10]:\n",
    "    ridge_model = Ridge(alpha=r)\n",
    "    ridge_model.fit(X_train, np.log1p(y_train))\n",
    "    y_pred =  ridge_model.predict(X_val)\n",
    "    rmsval = rmse(np.log1p(y_val), y_pred)\n",
    "    print('%6s' %r, rmsval)"
   ]
  }
 ],
 "metadata": {
  "kernelspec": {
   "display_name": "Python 3 (ipykernel)",
   "language": "python",
   "name": "python3"
  },
  "language_info": {
   "codemirror_mode": {
    "name": "ipython",
    "version": 3
   },
   "file_extension": ".py",
   "mimetype": "text/x-python",
   "name": "python",
   "nbconvert_exporter": "python",
   "pygments_lexer": "ipython3",
   "version": "3.8.10"
  }
 },
 "nbformat": 4,
 "nbformat_minor": 5
}
